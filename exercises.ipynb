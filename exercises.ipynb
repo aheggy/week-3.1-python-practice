{
 "cells": [
  {
   "cell_type": "markdown",
   "metadata": {},
   "source": [
    "# Python Exercises\n",
    "\n",
    "### Exercise 1: Simple function\n",
    "\n",
    "Create a function called `greet` that takes a name as an argument and returns a greeting string saying \"Hello\" and using the given name.\n"
   ]
  },
  {
   "cell_type": "code",
   "execution_count": 35,
   "metadata": {},
   "outputs": [
    {
     "name": "stdout",
     "output_type": "stream",
     "text": [
      "Hello Alice!\n"
     ]
    }
   ],
   "source": [
    "\n",
    "# Your Code Here\n",
    "def greet(name):\n",
    "    print(f\"Hello {name}!\")\n",
    "# Uncomment the invoked functions to Test\n",
    "greet(\"Alice\")\n",
    "# Should return \"Hello, Alice!\""
   ]
  },
  {
   "cell_type": "markdown",
   "metadata": {},
   "source": [
    "### Exercise 2: Function with if-else\n",
    "\n",
    "Create a function called `check_even_odd` that takes a number as an argument and returns \"Even\" if the number is even, and \"Odd\" if it's odd.\n",
    "\n",
    "\n"
   ]
  },
  {
   "cell_type": "code",
   "execution_count": 39,
   "metadata": {},
   "outputs": [
    {
     "name": "stdout",
     "output_type": "stream",
     "text": [
      "Even\n",
      "Odd\n"
     ]
    }
   ],
   "source": [
    "# Your Code Here\n",
    "def check_even_odd(number):\n",
    "    if number % 2 == 0:\n",
    "        print (\"Even\")\n",
    "    else:\n",
    "        print (\"Odd\")\n",
    "# Uncomment the invoked functions to Test\n",
    "check_even_odd(4) \n",
    "# Should return \"Even\"\n",
    "\n",
    "check_even_odd(7)  \n",
    "# Should return \"Odd\""
   ]
  },
  {
   "cell_type": "markdown",
   "metadata": {},
   "source": [
    "### Exercise 3: Function with multiple conditions\n",
    "\n",
    "Create a function called `grade_scorer` that takes a score (0-100) as an argument and returns the corresponding letter grade: \"A\" for 90-100, \"B\" for 80-89, \"C\" for 70-79, \"D\" for 60-69, and \"F\" for below 60.\n",
    "\n",
    "\n",
    "\n"
   ]
  },
  {
   "cell_type": "code",
   "execution_count": 46,
   "metadata": {},
   "outputs": [
    {
     "name": "stdout",
     "output_type": "stream",
     "text": [
      "A\n",
      "B\n",
      "C\n",
      "D\n"
     ]
    }
   ],
   "source": [
    "# Your Code Here\n",
    "def grade_scorer(score):\n",
    "    if score >= 90:\n",
    "        print(\"A\")\n",
    "    elif score >= 80:\n",
    "        print(\"B\")\n",
    "    elif score >= 70:\n",
    "        print(\"C\")\n",
    "    elif score >= 60:\n",
    "        print(\"D\")\n",
    "    else:\n",
    "        print(\"F\")\n",
    "# Uncomment the invoked functions to Test\n",
    "grade_scorer(95)  \n",
    "# Should return \"A\"\n",
    "\n",
    "grade_scorer(83)  \n",
    "# Should return \"B\"\n",
    "\n",
    "grade_scorer(72) \n",
    "# Should return \"C\"\n",
    "\n",
    "grade_scorer(65) \n",
    "# Should return \"D\""
   ]
  },
  {
   "cell_type": "markdown",
   "metadata": {},
   "source": [
    "### Exercise 4: Function using logical operators\n",
    "\n",
    "Create a function called `login_check` that takes a username and password as arguments. Return True if the username is \"admin\" and the password is \"12345\", False otherwise.\n",
    "\n",
    "\n",
    "\n"
   ]
  },
  {
   "cell_type": "code",
   "execution_count": 50,
   "metadata": {},
   "outputs": [
    {
     "data": {
      "text/plain": [
       "False"
      ]
     },
     "execution_count": 50,
     "metadata": {},
     "output_type": "execute_result"
    }
   ],
   "source": [
    "# Your Code Here\n",
    "def login_check(username, password):\n",
    "    if username == \"admin\" and password == \"12345\":\n",
    "        return True\n",
    "    else:\n",
    "        return False\n",
    "\n",
    "# Uncomment the invoked functions to Test\n",
    "login_check(\"admin\", \"12345\") \n",
    "# Should return True\n",
    "\n",
    "login_check(\"user\", \"pass\") \n",
    "# Should return False"
   ]
  },
  {
   "cell_type": "markdown",
   "metadata": {},
   "source": [
    "### Exercise 5: Function with nested if statements\n",
    "\n",
    "Create a function called `number_description` that takes a number as an argument and returns \"Positive even\" for positive even numbers, \"Positive odd\" for positive odd numbers, \"Negative\" for negative numbers, and \"Zero\" for 0.\n",
    "\n",
    "\n",
    "\n"
   ]
  },
  {
   "cell_type": "code",
   "execution_count": 55,
   "metadata": {},
   "outputs": [
    {
     "data": {
      "text/plain": [
       "0"
      ]
     },
     "execution_count": 55,
     "metadata": {},
     "output_type": "execute_result"
    }
   ],
   "source": [
    "# Your Code Here\n",
    "def number_description(number):\n",
    "    if number == 0:\n",
    "        return 0\n",
    "    elif number < 0:\n",
    "        return \"Negative\"\n",
    "    elif number % 2 == 0:\n",
    "        return \"Positive even\"\n",
    "    else:\n",
    "        return \"Positive odd\"\n",
    "# Uncomment the invoked functions to Test\n",
    "# number_description(4)  \n",
    "# Should return \"Positive even\"\n",
    "\n",
    "# number_description(7)  \n",
    "# Should return \"Positive odd\"\n",
    "\n",
    "# number_description(-3) \n",
    "# Should return \"Negative\"\n",
    "\n",
    "number_description(0)  \n",
    "# Should return \"Zero\""
   ]
  },
  {
   "cell_type": "markdown",
   "metadata": {},
   "source": [
    "### Exercise 6: Function comparing Python to JavaScript syntax\n",
    "Rewrite the following JavaScript function in Python:\n",
    "\n",
    "```javascript\n",
    "function jsComparison(x, y) {\n",
    "    if (x === y) {\n",
    "        return \"Equal\";\n",
    "    } else if (x > y) {\n",
    "        return \"Greater\";\n",
    "    } else {\n",
    "        return \"Less\";\n",
    "    }\n",
    "}\n",
    "```\n",
    "\n",
    "\n",
    "\n"
   ]
  },
  {
   "cell_type": "code",
   "execution_count": 60,
   "metadata": {},
   "outputs": [
    {
     "data": {
      "text/plain": [
       "'Less'"
      ]
     },
     "execution_count": 60,
     "metadata": {},
     "output_type": "execute_result"
    }
   ],
   "source": [
    "# Your Code Here\n",
    "def js_comparison(x, y):\n",
    "    if x == y:\n",
    "        return \"Equal\"\n",
    "    elif x > y:\n",
    "        return \"Greater\"\n",
    "    else:\n",
    "        return \"Less\"\n",
    "# Uncomment the invoked functions to Test\n",
    "js_comparison(5, 5)\n",
    "# Should return \"Equal\"\n",
    "\n",
    "js_comparison(10, 5) \n",
    "# Should return \"Greater\"\n",
    "\n",
    "js_comparison(3, 8) \n",
    "# Should return \"Less\""
   ]
  },
  {
   "cell_type": "markdown",
   "metadata": {},
   "source": [
    "### Exercise 7: Function using 'and' operator\n",
    "Create a function called `is_valid_triangle` that takes three side lengths as arguments and returns True if they can form a valid triangle (sum of any two sides > third side), False otherwise.\n",
    "\n",
    "\n",
    "\n",
    "\n"
   ]
  },
  {
   "cell_type": "code",
   "execution_count": 65,
   "metadata": {},
   "outputs": [
    {
     "data": {
      "text/plain": [
       "True"
      ]
     },
     "execution_count": 65,
     "metadata": {},
     "output_type": "execute_result"
    }
   ],
   "source": [
    "# Your Code Here\n",
    "def is_valid_triangle(side1, side2, side3):\n",
    "    if side1 + side2 > side3 and side1 + side3 > side2 and side2 + side3 > side1:\n",
    "        return True\n",
    "    else:\n",
    "        return False\n",
    "\n",
    "# Uncomment the invoked functions to Test\n",
    "is_valid_triangle(3, 4, 5)\n",
    "# Should return True\n",
    "\n",
    "# is_valid_triangle(1, 1, 2)  \n",
    "# Should return False"
   ]
  },
  {
   "cell_type": "markdown",
   "metadata": {},
   "source": [
    "### Exercise 8: Function using 'or' operator\n",
    "\n",
    "Create a function called `can_vote` that takes age and citizenship as arguments. Return True if age is 18 or above AND citizenship is \"USA\" or \"Canada\", False otherwise.\n"
   ]
  },
  {
   "cell_type": "code",
   "execution_count": 71,
   "metadata": {},
   "outputs": [
    {
     "data": {
      "text/plain": [
       "True"
      ]
     },
     "execution_count": 71,
     "metadata": {},
     "output_type": "execute_result"
    }
   ],
   "source": [
    "# Your Code Here\n",
    "def can_vote(age, citizenship):\n",
    "    if age >= 18 and (citizenship == \"USA\" or citizenship == \"Canada\"):\n",
    "        return True\n",
    "    else:\n",
    "        return False\n",
    "# Uncomment the invoked functions to Test\n",
    "can_vote(20, \"USA\")  \n",
    "# Should return True\n",
    "\n",
    "# can_vote(16, \"Canada\")  \n",
    "# Should return False"
   ]
  },
  {
   "cell_type": "markdown",
   "metadata": {},
   "source": [
    "### Exercise 9: Function using 'not' operator\n",
    "Create a function called `is_not_in_range` that takes three arguments: num, start, and end. Return True if num is NOT between start and end (inclusive), False otherwise.\n",
    "\n",
    "\n",
    "\n"
   ]
  },
  {
   "cell_type": "code",
   "execution_count": 76,
   "metadata": {},
   "outputs": [
    {
     "data": {
      "text/plain": [
       "True"
      ]
     },
     "execution_count": 76,
     "metadata": {},
     "output_type": "execute_result"
    }
   ],
   "source": [
    "\n",
    "# Your Code Here\n",
    "def is_not_in_range(num, start, end):\n",
    "    if num > end or num < start:\n",
    "        return True\n",
    "    else:\n",
    "        return False\n",
    "# Uncomment the invoked functions to Test\n",
    "is_not_in_range(3, 2, 4) \n",
    "# Should return False\n",
    "\n",
    "is_not_in_range(10, 2, 8)  \n",
    "# Should return True"
   ]
  },
  {
   "cell_type": "markdown",
   "metadata": {},
   "source": [
    "### Exercise 10: Function combining multiple concepts\n",
    "\n",
    "Create a function called `calculate_ticket_price` that takes age, day, and is_student as arguments. Calculate the ticket price based on these rules:\n",
    "- Base price is $10\n",
    "- If it's a weekend (day is \"Saturday\" or \"Sunday\"), add $5\n",
    "- If age is under 18 or over 65, apply a 20% discount\n",
    "- If is_student is True and it's not a weekend, apply a 10% discount\n",
    "Return the final ticket price.\n"
   ]
  },
  {
   "cell_type": "code",
   "execution_count": 88,
   "metadata": {},
   "outputs": [
    {
     "name": "stdout",
     "output_type": "stream",
     "text": [
      "$ 12.00\n"
     ]
    }
   ],
   "source": [
    "# Your Code Here\n",
    "def calculate_ticket_price(age, day, is_student):\n",
    "    price = 10\n",
    "    if day == \"Saturday\" or day == \"Sunday\":\n",
    "        price += 5\n",
    "    \n",
    "    if age < 18 or age > 65:\n",
    "        price = price * (1 - .2)\n",
    "    \n",
    "    if is_student and day != \"Saturday\" and day != \"Sunday\":\n",
    "        price = price * (1 - .1)\n",
    "    \n",
    "    print(f\"$ {price:.2f}\")\n",
    "# Uncomment the invoked functions to Test\n",
    "# calculate_ticket_price(25, \"Monday\", True)\n",
    "# Should return $9.00\n",
    "\n",
    "calculate_ticket_price(70, \"Sunday\", False)\n",
    "# Should return $15.00"
   ]
  }
 ],
 "metadata": {
  "kernelspec": {
   "display_name": "venv",
   "language": "python",
   "name": "python3"
  },
  "language_info": {
   "codemirror_mode": {
    "name": "ipython",
    "version": 3
   },
   "file_extension": ".py",
   "mimetype": "text/x-python",
   "name": "python",
   "nbconvert_exporter": "python",
   "pygments_lexer": "ipython3",
   "version": "3.13.0"
  }
 },
 "nbformat": 4,
 "nbformat_minor": 2
}
